{
 "cells": [
  {
   "cell_type": "markdown",
   "metadata": {},
   "source": [
    "# BUSINESS CONTEXT"
   ]
  },
  {
   "cell_type": "markdown",
   "metadata": {},
   "source": [
    "**Company Name:** DHAUZ Real State\n",
    "\n",
    "**Product/Service:** The company offers a service that estimates apartments price through their features and characteristics, serving as a guide to customers wanting to sell their apartments.\n",
    "\n",
    "**Business Model:**\n",
    "\n",
    "- The service price is based on two components:\n",
    "\n",
    "    - 1 - A minimum price per estimate, which is R$ 200,00\n",
    "    - 2 - Based on the error of the estimate, which is based on the MAPE. If the error is less than 0.05, it is added R$ 400,00. For every 1% more error, it is subtracted R$ 20,00. If the error is greater than 20%, than the customer only pays the minimun price\n",
    "\n",
    "**Current Situation:**\n",
    "\n",
    "- The estimate is done by real state agent\n",
    "- The current MAPE is around 18%, varying from 30% and 8%\n",
    "\n",
    "**Problem:**\n",
    "\n",
    "- The company started this business model to validade their service, and now is trying to improve their profit, delivering a more accurate estimate.\n",
    "\n",
    "**Proposed Solution:**\n",
    "\n",
    "- Create a Linear Model to estimate apartment price, to achieve a more accurate estimate and helping real state agents do their job.\n",
    "\n",
    "**Main Questions to be answered:**\n",
    "\n",
    "- How much is the average error?\n",
    "- How much more profit DHAUZ Real State will make with the proposed solution?"
   ]
  },
  {
   "cell_type": "markdown",
   "metadata": {},
   "source": [
    "# IMPORTS"
   ]
  },
  {
   "cell_type": "code",
   "execution_count": 18,
   "metadata": {},
   "outputs": [],
   "source": [
    "import pandas as pd\n",
    "import numpy as np\n",
    "from datetime import datetime"
   ]
  },
  {
   "cell_type": "markdown",
   "metadata": {},
   "source": [
    "# NOTEBOOK CONFIGS"
   ]
  },
  {
   "cell_type": "code",
   "execution_count": 3,
   "metadata": {},
   "outputs": [],
   "source": [
    "pd.set_option('display.max_columns', None)"
   ]
  },
  {
   "cell_type": "markdown",
   "metadata": {},
   "source": [
    "# HELPER FUNCTIONS"
   ]
  },
  {
   "cell_type": "code",
   "execution_count": null,
   "metadata": {},
   "outputs": [],
   "source": []
  },
  {
   "cell_type": "markdown",
   "metadata": {},
   "source": [
    "# 1.0 - LOADING DATA"
   ]
  },
  {
   "cell_type": "code",
   "execution_count": 31,
   "metadata": {},
   "outputs": [
    {
     "data": {
      "text/html": [
       "<div>\n",
       "<style scoped>\n",
       "    .dataframe tbody tr th:only-of-type {\n",
       "        vertical-align: middle;\n",
       "    }\n",
       "\n",
       "    .dataframe tbody tr th {\n",
       "        vertical-align: top;\n",
       "    }\n",
       "\n",
       "    .dataframe thead th {\n",
       "        text-align: right;\n",
       "    }\n",
       "</style>\n",
       "<table border=\"1\" class=\"dataframe\">\n",
       "  <thead>\n",
       "    <tr style=\"text-align: right;\">\n",
       "      <th></th>\n",
       "      <th>endereco</th>\n",
       "      <th>area</th>\n",
       "      <th>quartos</th>\n",
       "      <th>banheiros</th>\n",
       "      <th>vaga_garagem</th>\n",
       "      <th>valor_aluguel</th>\n",
       "      <th>valor_cond</th>\n",
       "      <th>caracteristicas</th>\n",
       "      <th>id_anuncio</th>\n",
       "      <th>fonte</th>\n",
       "      <th>scrap_datetime</th>\n",
       "    </tr>\n",
       "  </thead>\n",
       "  <tbody>\n",
       "    <tr>\n",
       "      <th>0</th>\n",
       "      <td>Rua Francisco Pedro do Amaral, 251 - Jaguaré, ...</td>\n",
       "      <td>68m²</td>\n",
       "      <td>3 quartos</td>\n",
       "      <td>2 banheiros     1 suíte</td>\n",
       "      <td>2 vagas</td>\n",
       "      <td>R$ 500.000</td>\n",
       "      <td>R$ 575</td>\n",
       "      <td>Piscina, Churrasqueira, Elevador, Academia, Ac...</td>\n",
       "      <td>2548091356</td>\n",
       "      <td>https://www.vivareal.com.br/imovel/apartamento...</td>\n",
       "      <td>2022-03-02 23:08:39.136947</td>\n",
       "    </tr>\n",
       "    <tr>\n",
       "      <th>1</th>\n",
       "      <td>Rua Santo Antônio, 670 - Bela Vista, São Paulo...</td>\n",
       "      <td>44m²</td>\n",
       "      <td>1 quarto</td>\n",
       "      <td>1 banheiro</td>\n",
       "      <td>Não informado Solicitar</td>\n",
       "      <td>R$ 289.000</td>\n",
       "      <td>R$ 319</td>\n",
       "      <td>Aceita animais, Elevador, Portão eletrônico</td>\n",
       "      <td>2552171953</td>\n",
       "      <td>https://www.vivareal.com.br/imovel/apartamento...</td>\n",
       "      <td>2022-03-02 23:08:39.136947</td>\n",
       "    </tr>\n",
       "    <tr>\n",
       "      <th>2</th>\n",
       "      <td>Rua Domingos Rodrigues, 509 - Lapa, São Paulo ...</td>\n",
       "      <td>54m²</td>\n",
       "      <td>2 quartos</td>\n",
       "      <td>2 banheiros     1 suíte</td>\n",
       "      <td>1 vaga</td>\n",
       "      <td>R$ 550.000</td>\n",
       "      <td>R$ 800</td>\n",
       "      <td>Piscina, Mobiliado, Churrasqueira, Elevador, A...</td>\n",
       "      <td>2544567013</td>\n",
       "      <td>https://www.vivareal.com.br/imovel/apartamento...</td>\n",
       "      <td>2022-03-02 23:08:39.136947</td>\n",
       "    </tr>\n",
       "    <tr>\n",
       "      <th>3</th>\n",
       "      <td>Rua Humberto I, 193 - Vila Mariana, São Paulo ...</td>\n",
       "      <td>172m²</td>\n",
       "      <td>4 quartos</td>\n",
       "      <td>5 banheiros     3 suítes</td>\n",
       "      <td>4 vagas</td>\n",
       "      <td>R$ 4.810.000</td>\n",
       "      <td>R$ 2.100</td>\n",
       "      <td>Piscina, Churrasqueira, Academia, Aceita anima...</td>\n",
       "      <td>2543253547</td>\n",
       "      <td>https://www.vivareal.com.br/imovel/apartamento...</td>\n",
       "      <td>2022-03-02 23:08:39.136947</td>\n",
       "    </tr>\n",
       "    <tr>\n",
       "      <th>4</th>\n",
       "      <td>Rua Quariteré, 267 - Parque da Mooca, São Paul...</td>\n",
       "      <td>78m²</td>\n",
       "      <td>2 quartos</td>\n",
       "      <td>2 banheiros     1 suíte</td>\n",
       "      <td>1 vaga</td>\n",
       "      <td>R$ 680.000</td>\n",
       "      <td>R$ 1.000</td>\n",
       "      <td>Piscina, Churrasqueira, Elevador, Condomínio f...</td>\n",
       "      <td>2550615565</td>\n",
       "      <td>https://www.vivareal.com.br/imovel/apartamento...</td>\n",
       "      <td>2022-03-02 23:08:39.136947</td>\n",
       "    </tr>\n",
       "  </tbody>\n",
       "</table>\n",
       "</div>"
      ],
      "text/plain": [
       "                                            endereco   area    quartos  \\\n",
       "0  Rua Francisco Pedro do Amaral, 251 - Jaguaré, ...   68m²  3 quartos   \n",
       "1  Rua Santo Antônio, 670 - Bela Vista, São Paulo...   44m²   1 quarto   \n",
       "2  Rua Domingos Rodrigues, 509 - Lapa, São Paulo ...   54m²  2 quartos   \n",
       "3  Rua Humberto I, 193 - Vila Mariana, São Paulo ...  172m²  4 quartos   \n",
       "4  Rua Quariteré, 267 - Parque da Mooca, São Paul...   78m²  2 quartos   \n",
       "\n",
       "                  banheiros             vaga_garagem valor_aluguel valor_cond  \\\n",
       "0   2 banheiros     1 suíte                  2 vagas    R$ 500.000     R$ 575   \n",
       "1                1 banheiro  Não informado Solicitar    R$ 289.000     R$ 319   \n",
       "2   2 banheiros     1 suíte                   1 vaga    R$ 550.000     R$ 800   \n",
       "3  5 banheiros     3 suítes                  4 vagas  R$ 4.810.000   R$ 2.100   \n",
       "4   2 banheiros     1 suíte                   1 vaga    R$ 680.000   R$ 1.000   \n",
       "\n",
       "                                     caracteristicas  id_anuncio  \\\n",
       "0  Piscina, Churrasqueira, Elevador, Academia, Ac...  2548091356   \n",
       "1        Aceita animais, Elevador, Portão eletrônico  2552171953   \n",
       "2  Piscina, Mobiliado, Churrasqueira, Elevador, A...  2544567013   \n",
       "3  Piscina, Churrasqueira, Academia, Aceita anima...  2543253547   \n",
       "4  Piscina, Churrasqueira, Elevador, Condomínio f...  2550615565   \n",
       "\n",
       "                                               fonte  \\\n",
       "0  https://www.vivareal.com.br/imovel/apartamento...   \n",
       "1  https://www.vivareal.com.br/imovel/apartamento...   \n",
       "2  https://www.vivareal.com.br/imovel/apartamento...   \n",
       "3  https://www.vivareal.com.br/imovel/apartamento...   \n",
       "4  https://www.vivareal.com.br/imovel/apartamento...   \n",
       "\n",
       "               scrap_datetime  \n",
       "0  2022-03-02 23:08:39.136947  \n",
       "1  2022-03-02 23:08:39.136947  \n",
       "2  2022-03-02 23:08:39.136947  \n",
       "3  2022-03-02 23:08:39.136947  \n",
       "4  2022-03-02 23:08:39.136947  "
      ]
     },
     "execution_count": 31,
     "metadata": {},
     "output_type": "execute_result"
    }
   ],
   "source": [
    "df_raw = pd.read_csv(r'C:\\Users\\AlvaroMatsuda\\OneDrive - DHAUZ\\Área de Trabalho\\DHAUZ_Files\\Vivareal_Webscraping\\scraped_data\\df_webscraped.csv').drop(columns='Unnamed: 0')\n",
    "df_raw.head()"
   ]
  },
  {
   "cell_type": "markdown",
   "metadata": {},
   "source": [
    "# 2.0 - DATA CLEANING"
   ]
  },
  {
   "cell_type": "code",
   "execution_count": 203,
   "metadata": {},
   "outputs": [],
   "source": [
    "df02 = df_raw.copy()"
   ]
  },
  {
   "cell_type": "code",
   "execution_count": 204,
   "metadata": {},
   "outputs": [],
   "source": [
    "# =============== 1.0 - area ===============\n",
    "# Remove \"m²\"\n",
    "df02['area'] = df02['area'].str.strip('m²')\n",
    "\n",
    "# Drop \"sem metrage\"\n",
    "df02.drop(df02[df02['area'] == 'sem metrage'].index, inplace=True)\n",
    "\n",
    "# Convert to int\n",
    "df02['area'] = df02['area'].astype('int64')\n",
    "\n",
    "# =============== 2.0 - quartos ===============\n",
    "# remove \"quartos\"\n",
    "df02['quartos'] = df02['quartos'].str.strip('quartos')\n",
    "\n",
    "# Convert to int\n",
    "df02['quartos'] = df02['quartos'].astype('int64')\n",
    "\n",
    "# =============== 3.0 - suite ===============\n",
    "# create suite column\n",
    "df02.insert(4, 'suite', df02[df02['banheiros'].str.contains('suíte')]['banheiros'].str.replace(' ', '').str[9:12].str.strip('suo'))\n",
    "\n",
    "# fill NA - suite\n",
    "df02['suite'].fillna(0, inplace=True)\n",
    "\n",
    "# Convert to int\n",
    "df02['suite'] = df02['suite'].astype('int64')\n",
    "\n",
    "# =============== 4.0 - banheiros ===============\n",
    "\n",
    "# =============== 5.0 - vaga_garagem ===============\n",
    "\n",
    "# =============== 6.0 - valor_aluguel ===============\n",
    "\n",
    "# =============== 7.0 - valor_cond ===============\n",
    "\n",
    "# =============== 8.0 - caracteristicas ===============\n",
    "\n"
   ]
  },
  {
   "cell_type": "code",
   "execution_count": 207,
   "metadata": {},
   "outputs": [
    {
     "data": {
      "text/html": [
       "<div>\n",
       "<style scoped>\n",
       "    .dataframe tbody tr th:only-of-type {\n",
       "        vertical-align: middle;\n",
       "    }\n",
       "\n",
       "    .dataframe tbody tr th {\n",
       "        vertical-align: top;\n",
       "    }\n",
       "\n",
       "    .dataframe thead th {\n",
       "        text-align: right;\n",
       "    }\n",
       "</style>\n",
       "<table border=\"1\" class=\"dataframe\">\n",
       "  <thead>\n",
       "    <tr style=\"text-align: right;\">\n",
       "      <th></th>\n",
       "      <th>endereco</th>\n",
       "      <th>area</th>\n",
       "      <th>quartos</th>\n",
       "      <th>banheiros</th>\n",
       "      <th>suite</th>\n",
       "      <th>vaga_garagem</th>\n",
       "      <th>valor_aluguel</th>\n",
       "      <th>valor_cond</th>\n",
       "      <th>caracteristicas</th>\n",
       "      <th>id_anuncio</th>\n",
       "      <th>fonte</th>\n",
       "      <th>scrap_datetime</th>\n",
       "    </tr>\n",
       "  </thead>\n",
       "  <tbody>\n",
       "    <tr>\n",
       "      <th>0</th>\n",
       "      <td>Rua Francisco Pedro do Amaral, 251 - Jaguaré, ...</td>\n",
       "      <td>68</td>\n",
       "      <td>3</td>\n",
       "      <td>2 banheiros     1 suíte</td>\n",
       "      <td>1</td>\n",
       "      <td>2 vagas</td>\n",
       "      <td>R$ 500.000</td>\n",
       "      <td>R$ 575</td>\n",
       "      <td>Piscina, Churrasqueira, Elevador, Academia, Ac...</td>\n",
       "      <td>2548091356</td>\n",
       "      <td>https://www.vivareal.com.br/imovel/apartamento...</td>\n",
       "      <td>2022-03-02 23:08:39.136947</td>\n",
       "    </tr>\n",
       "    <tr>\n",
       "      <th>1</th>\n",
       "      <td>Rua Santo Antônio, 670 - Bela Vista, São Paulo...</td>\n",
       "      <td>44</td>\n",
       "      <td>1</td>\n",
       "      <td>1 banheiro</td>\n",
       "      <td>0</td>\n",
       "      <td>Não informado Solicitar</td>\n",
       "      <td>R$ 289.000</td>\n",
       "      <td>R$ 319</td>\n",
       "      <td>Aceita animais, Elevador, Portão eletrônico</td>\n",
       "      <td>2552171953</td>\n",
       "      <td>https://www.vivareal.com.br/imovel/apartamento...</td>\n",
       "      <td>2022-03-02 23:08:39.136947</td>\n",
       "    </tr>\n",
       "    <tr>\n",
       "      <th>2</th>\n",
       "      <td>Rua Domingos Rodrigues, 509 - Lapa, São Paulo ...</td>\n",
       "      <td>54</td>\n",
       "      <td>2</td>\n",
       "      <td>2 banheiros     1 suíte</td>\n",
       "      <td>1</td>\n",
       "      <td>1 vaga</td>\n",
       "      <td>R$ 550.000</td>\n",
       "      <td>R$ 800</td>\n",
       "      <td>Piscina, Mobiliado, Churrasqueira, Elevador, A...</td>\n",
       "      <td>2544567013</td>\n",
       "      <td>https://www.vivareal.com.br/imovel/apartamento...</td>\n",
       "      <td>2022-03-02 23:08:39.136947</td>\n",
       "    </tr>\n",
       "    <tr>\n",
       "      <th>3</th>\n",
       "      <td>Rua Humberto I, 193 - Vila Mariana, São Paulo ...</td>\n",
       "      <td>172</td>\n",
       "      <td>4</td>\n",
       "      <td>5 banheiros     3 suítes</td>\n",
       "      <td>3</td>\n",
       "      <td>4 vagas</td>\n",
       "      <td>R$ 4.810.000</td>\n",
       "      <td>R$ 2.100</td>\n",
       "      <td>Piscina, Churrasqueira, Academia, Aceita anima...</td>\n",
       "      <td>2543253547</td>\n",
       "      <td>https://www.vivareal.com.br/imovel/apartamento...</td>\n",
       "      <td>2022-03-02 23:08:39.136947</td>\n",
       "    </tr>\n",
       "    <tr>\n",
       "      <th>4</th>\n",
       "      <td>Rua Quariteré, 267 - Parque da Mooca, São Paul...</td>\n",
       "      <td>78</td>\n",
       "      <td>2</td>\n",
       "      <td>2 banheiros     1 suíte</td>\n",
       "      <td>1</td>\n",
       "      <td>1 vaga</td>\n",
       "      <td>R$ 680.000</td>\n",
       "      <td>R$ 1.000</td>\n",
       "      <td>Piscina, Churrasqueira, Elevador, Condomínio f...</td>\n",
       "      <td>2550615565</td>\n",
       "      <td>https://www.vivareal.com.br/imovel/apartamento...</td>\n",
       "      <td>2022-03-02 23:08:39.136947</td>\n",
       "    </tr>\n",
       "    <tr>\n",
       "      <th>...</th>\n",
       "      <td>...</td>\n",
       "      <td>...</td>\n",
       "      <td>...</td>\n",
       "      <td>...</td>\n",
       "      <td>...</td>\n",
       "      <td>...</td>\n",
       "      <td>...</td>\n",
       "      <td>...</td>\n",
       "      <td>...</td>\n",
       "      <td>...</td>\n",
       "      <td>...</td>\n",
       "      <td>...</td>\n",
       "    </tr>\n",
       "    <tr>\n",
       "      <th>10555</th>\n",
       "      <td>Rua Eugênio de Medeiros - Pinheiros, São Paulo...</td>\n",
       "      <td>60</td>\n",
       "      <td>2</td>\n",
       "      <td>2 banheiros     1 suíte</td>\n",
       "      <td>1</td>\n",
       "      <td>2 vagas</td>\n",
       "      <td>R$ 1.050.000</td>\n",
       "      <td>R$ 549</td>\n",
       "      <td>sem informacao</td>\n",
       "      <td>2542503492</td>\n",
       "      <td>https://www.vivareal.com.br/imovel/apartamento...</td>\n",
       "      <td>2022-03-02 23:08:39.136947</td>\n",
       "    </tr>\n",
       "    <tr>\n",
       "      <th>10556</th>\n",
       "      <td>Lauzane Paulista, São Paulo - SP</td>\n",
       "      <td>93</td>\n",
       "      <td>2</td>\n",
       "      <td>2 banheiros     1 suíte</td>\n",
       "      <td>1</td>\n",
       "      <td>2 vagas</td>\n",
       "      <td>R$ 700.000</td>\n",
       "      <td>R$ 679</td>\n",
       "      <td>Garagem, Varanda, Cozinha</td>\n",
       "      <td>2551040585</td>\n",
       "      <td>https://www.vivareal.com.br/imovel/apartamento...</td>\n",
       "      <td>2022-03-02 23:08:39.136947</td>\n",
       "    </tr>\n",
       "    <tr>\n",
       "      <th>10557</th>\n",
       "      <td>Rua Ibirajá - Vila Guarani, São Paulo - SP</td>\n",
       "      <td>53</td>\n",
       "      <td>2</td>\n",
       "      <td>1 banheiro     1 suíte</td>\n",
       "      <td>1</td>\n",
       "      <td>1 vaga</td>\n",
       "      <td>R$ 519.000</td>\n",
       "      <td>R$ 650</td>\n",
       "      <td>Piscina, Churrasqueira, Elevador, Condomínio f...</td>\n",
       "      <td>2547621336</td>\n",
       "      <td>https://www.vivareal.com.br/imovel/apartamento...</td>\n",
       "      <td>2022-03-02 23:08:39.136947</td>\n",
       "    </tr>\n",
       "    <tr>\n",
       "      <th>10558</th>\n",
       "      <td>Rua São Jorge, 125 - Tatuapé, São Paulo - SP</td>\n",
       "      <td>66</td>\n",
       "      <td>2</td>\n",
       "      <td>2 banheiros     1 suíte</td>\n",
       "      <td>1</td>\n",
       "      <td>2 vagas</td>\n",
       "      <td>R$ 539.000</td>\n",
       "      <td>R$ 700</td>\n",
       "      <td>Piscina, Mobiliado, Churrasqueira, Elevador, C...</td>\n",
       "      <td>2539189788</td>\n",
       "      <td>https://www.vivareal.com.br/imovel/apartamento...</td>\n",
       "      <td>2022-03-02 23:08:39.136947</td>\n",
       "    </tr>\n",
       "    <tr>\n",
       "      <th>10559</th>\n",
       "      <td>Rua Carlos Escobar, 141 - Santana, São Paulo - SP</td>\n",
       "      <td>163</td>\n",
       "      <td>3</td>\n",
       "      <td>3 banheiros     3 suítes</td>\n",
       "      <td>3</td>\n",
       "      <td>4 vagas</td>\n",
       "      <td>R$ 1.800.000</td>\n",
       "      <td>R$ 1.726</td>\n",
       "      <td>Piscina, Mobiliado, Churrasqueira, Elevador, A...</td>\n",
       "      <td>2503598009</td>\n",
       "      <td>https://www.vivareal.com.br/imovel/apartamento...</td>\n",
       "      <td>2022-03-02 23:08:39.136947</td>\n",
       "    </tr>\n",
       "  </tbody>\n",
       "</table>\n",
       "<p>10559 rows × 12 columns</p>\n",
       "</div>"
      ],
      "text/plain": [
       "                                                endereco  area  quartos  \\\n",
       "0      Rua Francisco Pedro do Amaral, 251 - Jaguaré, ...    68        3   \n",
       "1      Rua Santo Antônio, 670 - Bela Vista, São Paulo...    44        1   \n",
       "2      Rua Domingos Rodrigues, 509 - Lapa, São Paulo ...    54        2   \n",
       "3      Rua Humberto I, 193 - Vila Mariana, São Paulo ...   172        4   \n",
       "4      Rua Quariteré, 267 - Parque da Mooca, São Paul...    78        2   \n",
       "...                                                  ...   ...      ...   \n",
       "10555  Rua Eugênio de Medeiros - Pinheiros, São Paulo...    60        2   \n",
       "10556                   Lauzane Paulista, São Paulo - SP    93        2   \n",
       "10557         Rua Ibirajá - Vila Guarani, São Paulo - SP    53        2   \n",
       "10558       Rua São Jorge, 125 - Tatuapé, São Paulo - SP    66        2   \n",
       "10559  Rua Carlos Escobar, 141 - Santana, São Paulo - SP   163        3   \n",
       "\n",
       "                      banheiros  suite             vaga_garagem valor_aluguel  \\\n",
       "0       2 banheiros     1 suíte      1                  2 vagas    R$ 500.000   \n",
       "1                    1 banheiro      0  Não informado Solicitar    R$ 289.000   \n",
       "2       2 banheiros     1 suíte      1                   1 vaga    R$ 550.000   \n",
       "3      5 banheiros     3 suítes      3                  4 vagas  R$ 4.810.000   \n",
       "4       2 banheiros     1 suíte      1                   1 vaga    R$ 680.000   \n",
       "...                         ...    ...                      ...           ...   \n",
       "10555   2 banheiros     1 suíte      1                  2 vagas  R$ 1.050.000   \n",
       "10556   2 banheiros     1 suíte      1                  2 vagas    R$ 700.000   \n",
       "10557    1 banheiro     1 suíte      1                   1 vaga    R$ 519.000   \n",
       "10558   2 banheiros     1 suíte      1                  2 vagas    R$ 539.000   \n",
       "10559  3 banheiros     3 suítes      3                  4 vagas  R$ 1.800.000   \n",
       "\n",
       "      valor_cond                                    caracteristicas  \\\n",
       "0         R$ 575  Piscina, Churrasqueira, Elevador, Academia, Ac...   \n",
       "1         R$ 319        Aceita animais, Elevador, Portão eletrônico   \n",
       "2         R$ 800  Piscina, Mobiliado, Churrasqueira, Elevador, A...   \n",
       "3       R$ 2.100  Piscina, Churrasqueira, Academia, Aceita anima...   \n",
       "4       R$ 1.000  Piscina, Churrasqueira, Elevador, Condomínio f...   \n",
       "...          ...                                                ...   \n",
       "10555     R$ 549                                     sem informacao   \n",
       "10556     R$ 679                          Garagem, Varanda, Cozinha   \n",
       "10557     R$ 650  Piscina, Churrasqueira, Elevador, Condomínio f...   \n",
       "10558     R$ 700  Piscina, Mobiliado, Churrasqueira, Elevador, C...   \n",
       "10559   R$ 1.726  Piscina, Mobiliado, Churrasqueira, Elevador, A...   \n",
       "\n",
       "       id_anuncio                                              fonte  \\\n",
       "0      2548091356  https://www.vivareal.com.br/imovel/apartamento...   \n",
       "1      2552171953  https://www.vivareal.com.br/imovel/apartamento...   \n",
       "2      2544567013  https://www.vivareal.com.br/imovel/apartamento...   \n",
       "3      2543253547  https://www.vivareal.com.br/imovel/apartamento...   \n",
       "4      2550615565  https://www.vivareal.com.br/imovel/apartamento...   \n",
       "...           ...                                                ...   \n",
       "10555  2542503492  https://www.vivareal.com.br/imovel/apartamento...   \n",
       "10556  2551040585  https://www.vivareal.com.br/imovel/apartamento...   \n",
       "10557  2547621336  https://www.vivareal.com.br/imovel/apartamento...   \n",
       "10558  2539189788  https://www.vivareal.com.br/imovel/apartamento...   \n",
       "10559  2503598009  https://www.vivareal.com.br/imovel/apartamento...   \n",
       "\n",
       "                   scrap_datetime  \n",
       "0      2022-03-02 23:08:39.136947  \n",
       "1      2022-03-02 23:08:39.136947  \n",
       "2      2022-03-02 23:08:39.136947  \n",
       "3      2022-03-02 23:08:39.136947  \n",
       "4      2022-03-02 23:08:39.136947  \n",
       "...                           ...  \n",
       "10555  2022-03-02 23:08:39.136947  \n",
       "10556  2022-03-02 23:08:39.136947  \n",
       "10557  2022-03-02 23:08:39.136947  \n",
       "10558  2022-03-02 23:08:39.136947  \n",
       "10559  2022-03-02 23:08:39.136947  \n",
       "\n",
       "[10559 rows x 12 columns]"
      ]
     },
     "execution_count": 207,
     "metadata": {},
     "output_type": "execute_result"
    }
   ],
   "source": [
    "df02"
   ]
  },
  {
   "cell_type": "code",
   "execution_count": 193,
   "metadata": {},
   "outputs": [
    {
     "data": {
      "text/plain": [
       "0        1\n",
       "2        1\n",
       "3        3\n",
       "4        1\n",
       "5        2\n",
       "        ..\n",
       "10555    1\n",
       "10556    1\n",
       "10557    s\n",
       "10558    1\n",
       "10559    3\n",
       "Name: banheiros, Length: 6304, dtype: object"
      ]
     },
     "execution_count": 193,
     "metadata": {},
     "output_type": "execute_result"
    }
   ],
   "source": [
    "df02[df02['banheiros'].str.contains('suíte')]['banheiros'].str.replace(' ', '').str[10:11]"
   ]
  },
  {
   "cell_type": "code",
   "execution_count": 181,
   "metadata": {},
   "outputs": [
    {
     "data": {
      "text/plain": [
       "0         1\n",
       "2         1\n",
       "3         3\n",
       "4         1\n",
       "5         2\n",
       "         ..\n",
       "10555     1\n",
       "10556     1\n",
       "10557    1 \n",
       "10558     1\n",
       "10559     3\n",
       "Name: banheiros, Length: 6304, dtype: object"
      ]
     },
     "execution_count": 181,
     "metadata": {},
     "output_type": "execute_result"
    }
   ],
   "source": [
    "df02[df02['banheiros'].str.replace(' ', '').str.contains('suíte')]['banheiros'].str[15:17]"
   ]
  },
  {
   "cell_type": "code",
   "execution_count": 179,
   "metadata": {},
   "outputs": [
    {
     "name": "stdout",
     "output_type": "stream",
     "text": [
      "2banheiros1suíte\n"
     ]
    }
   ],
   "source": [
    "text = '     2 banheiros     1 suíte'\n",
    "print(text.replace(' ', ''))"
   ]
  },
  {
   "cell_type": "code",
   "execution_count": 172,
   "metadata": {},
   "outputs": [
    {
     "data": {
      "text/plain": [
       "0         2 banheiros     1 suíte\n",
       "1                      1 banheiro\n",
       "2         2 banheiros     1 suíte\n",
       "3        5 banheiros     3 suítes\n",
       "4         2 banheiros     1 suíte\n",
       "                   ...           \n",
       "10555     2 banheiros     1 suíte\n",
       "10556     2 banheiros     1 suíte\n",
       "10557      1 banheiro     1 suíte\n",
       "10558     2 banheiros     1 suíte\n",
       "10559    3 banheiros     3 suítes\n",
       "Name: banheiros, Length: 10559, dtype: object"
      ]
     },
     "execution_count": 172,
     "metadata": {},
     "output_type": "execute_result"
    }
   ],
   "source": [
    "df02['banheiros']"
   ]
  },
  {
   "cell_type": "code",
   "execution_count": 141,
   "metadata": {},
   "outputs": [
    {
     "data": {
      "text/plain": [
       "0         1\n",
       "2         1\n",
       "3         3\n",
       "4         1\n",
       "5         2\n",
       "         ..\n",
       "10555     1\n",
       "10556     1\n",
       "10557    1 \n",
       "10558     1\n",
       "10559     3\n",
       "Name: banheiros, Length: 6304, dtype: object"
      ]
     },
     "execution_count": 141,
     "metadata": {},
     "output_type": "execute_result"
    }
   ],
   "source": [
    "df02[df02['banheiros'].str.strip.contains('suíte')]['banheiros'].str[15:17]"
   ]
  },
  {
   "cell_type": "code",
   "execution_count": 153,
   "metadata": {},
   "outputs": [
    {
     "data": {
      "text/plain": [
       "'10 banheiros     5 suítes'"
      ]
     },
     "execution_count": 153,
     "metadata": {},
     "output_type": "execute_result"
    }
   ],
   "source": [
    "df02.iloc[[2225, 8265], :]['banheiros'][2226]"
   ]
  },
  {
   "cell_type": "code",
   "execution_count": 138,
   "metadata": {},
   "outputs": [
    {
     "data": {
      "text/html": [
       "<div>\n",
       "<style scoped>\n",
       "    .dataframe tbody tr th:only-of-type {\n",
       "        vertical-align: middle;\n",
       "    }\n",
       "\n",
       "    .dataframe tbody tr th {\n",
       "        vertical-align: top;\n",
       "    }\n",
       "\n",
       "    .dataframe thead th {\n",
       "        text-align: right;\n",
       "    }\n",
       "</style>\n",
       "<table border=\"1\" class=\"dataframe\">\n",
       "  <thead>\n",
       "    <tr style=\"text-align: right;\">\n",
       "      <th></th>\n",
       "      <th>endereco</th>\n",
       "      <th>area</th>\n",
       "      <th>quartos</th>\n",
       "      <th>banheiros</th>\n",
       "      <th>suite</th>\n",
       "      <th>vaga_garagem</th>\n",
       "      <th>valor_aluguel</th>\n",
       "      <th>valor_cond</th>\n",
       "      <th>caracteristicas</th>\n",
       "      <th>id_anuncio</th>\n",
       "      <th>fonte</th>\n",
       "      <th>scrap_datetime</th>\n",
       "    </tr>\n",
       "  </thead>\n",
       "  <tbody>\n",
       "    <tr>\n",
       "      <th>2226</th>\n",
       "      <td>Rua Jaime Costa, 425 - Retiro Morumbi , São Pa...</td>\n",
       "      <td>1250</td>\n",
       "      <td>5</td>\n",
       "      <td>10 banheiros     5 suítes</td>\n",
       "      <td></td>\n",
       "      <td>12 vagas</td>\n",
       "      <td>R$ 24.990.000</td>\n",
       "      <td>R$ 19.510</td>\n",
       "      <td>Piscina, Mobiliado, Churrasqueira, Elevador, C...</td>\n",
       "      <td>2538655767</td>\n",
       "      <td>https://www.vivareal.com.br/imovel/apartamento...</td>\n",
       "      <td>2022-03-02 23:08:39.136947</td>\n",
       "    </tr>\n",
       "    <tr>\n",
       "      <th>8266</th>\n",
       "      <td>Rua Seridó - Jardim Europa, São Paulo - SP</td>\n",
       "      <td>1980</td>\n",
       "      <td>7</td>\n",
       "      <td>11 banheiros     7 suítes</td>\n",
       "      <td></td>\n",
       "      <td>Não informado Solicitar</td>\n",
       "      <td>R$ 70.000.000</td>\n",
       "      <td>R$ 25.000</td>\n",
       "      <td>Piscina, Churrasqueira, Varanda, Academia, Ar-...</td>\n",
       "      <td>2550930730</td>\n",
       "      <td>https://www.vivareal.com.br/imovel/apartamento...</td>\n",
       "      <td>2022-03-02 23:08:39.136947</td>\n",
       "    </tr>\n",
       "  </tbody>\n",
       "</table>\n",
       "</div>"
      ],
      "text/plain": [
       "                                               endereco  area  quartos  \\\n",
       "2226  Rua Jaime Costa, 425 - Retiro Morumbi , São Pa...  1250        5   \n",
       "8266         Rua Seridó - Jardim Europa, São Paulo - SP  1980        7   \n",
       "\n",
       "                      banheiros suite             vaga_garagem  valor_aluguel  \\\n",
       "2226  10 banheiros     5 suítes                       12 vagas  R$ 24.990.000   \n",
       "8266  11 banheiros     7 suítes        Não informado Solicitar  R$ 70.000.000   \n",
       "\n",
       "     valor_cond                                    caracteristicas  \\\n",
       "2226  R$ 19.510  Piscina, Mobiliado, Churrasqueira, Elevador, C...   \n",
       "8266  R$ 25.000  Piscina, Churrasqueira, Varanda, Academia, Ar-...   \n",
       "\n",
       "      id_anuncio                                              fonte  \\\n",
       "2226  2538655767  https://www.vivareal.com.br/imovel/apartamento...   \n",
       "8266  2550930730  https://www.vivareal.com.br/imovel/apartamento...   \n",
       "\n",
       "                  scrap_datetime  \n",
       "2226  2022-03-02 23:08:39.136947  \n",
       "8266  2022-03-02 23:08:39.136947  "
      ]
     },
     "execution_count": 138,
     "metadata": {},
     "output_type": "execute_result"
    }
   ],
   "source": [
    "df02[df02['suite'] == '']"
   ]
  },
  {
   "cell_type": "code",
   "execution_count": 132,
   "metadata": {},
   "outputs": [
    {
     "data": {
      "text/plain": [
       "0          1\n",
       "1        NaN\n",
       "2          1\n",
       "3          3\n",
       "4          1\n",
       "        ... \n",
       "10555      1\n",
       "10556      1\n",
       "10557      1\n",
       "10558      1\n",
       "10559      3\n",
       "Name: suite, Length: 10559, dtype: object"
      ]
     },
     "execution_count": 132,
     "metadata": {},
     "output_type": "execute_result"
    }
   ],
   "source": [
    "df02['suite'].str.strip()"
   ]
  },
  {
   "cell_type": "code",
   "execution_count": 111,
   "metadata": {},
   "outputs": [
    {
     "data": {
      "text/html": [
       "<div>\n",
       "<style scoped>\n",
       "    .dataframe tbody tr th:only-of-type {\n",
       "        vertical-align: middle;\n",
       "    }\n",
       "\n",
       "    .dataframe tbody tr th {\n",
       "        vertical-align: top;\n",
       "    }\n",
       "\n",
       "    .dataframe thead th {\n",
       "        text-align: right;\n",
       "    }\n",
       "</style>\n",
       "<table border=\"1\" class=\"dataframe\">\n",
       "  <thead>\n",
       "    <tr style=\"text-align: right;\">\n",
       "      <th></th>\n",
       "      <th>endereco</th>\n",
       "      <th>area</th>\n",
       "      <th>quartos</th>\n",
       "      <th>banheiros</th>\n",
       "      <th>suite</th>\n",
       "      <th>vaga_garagem</th>\n",
       "      <th>valor_aluguel</th>\n",
       "      <th>valor_cond</th>\n",
       "      <th>caracteristicas</th>\n",
       "      <th>id_anuncio</th>\n",
       "      <th>fonte</th>\n",
       "      <th>scrap_datetime</th>\n",
       "    </tr>\n",
       "  </thead>\n",
       "  <tbody>\n",
       "    <tr>\n",
       "      <th>28</th>\n",
       "      <td>Rua Dona Antônia de Queirós - Consolação, São ...</td>\n",
       "      <td>38</td>\n",
       "      <td>1</td>\n",
       "      <td>1 banheiro     1 suíte</td>\n",
       "      <td></td>\n",
       "      <td>1 vaga</td>\n",
       "      <td>R$ 549.000</td>\n",
       "      <td>R$ 600</td>\n",
       "      <td>Piscina, Churrasqueira, Elevador, Condomínio f...</td>\n",
       "      <td>2551430565</td>\n",
       "      <td>https://www.vivareal.com.br/imovel/apartamento...</td>\n",
       "      <td>2022-03-02 23:08:39.136947</td>\n",
       "    </tr>\n",
       "    <tr>\n",
       "      <th>67</th>\n",
       "      <td>Rua Dona Antônia de Queirós - Consolação, São ...</td>\n",
       "      <td>38</td>\n",
       "      <td>1</td>\n",
       "      <td>1 banheiro     1 suíte</td>\n",
       "      <td></td>\n",
       "      <td>1 vaga</td>\n",
       "      <td>R$ 549.000</td>\n",
       "      <td>R$ 600</td>\n",
       "      <td>Piscina, Churrasqueira, Elevador, Condomínio f...</td>\n",
       "      <td>2551430565</td>\n",
       "      <td>https://www.vivareal.com.br/imovel/apartamento...</td>\n",
       "      <td>2022-03-02 23:08:39.136947</td>\n",
       "    </tr>\n",
       "    <tr>\n",
       "      <th>70</th>\n",
       "      <td>Rua Ibirajá - Vila Guarani, São Paulo - SP</td>\n",
       "      <td>53</td>\n",
       "      <td>2</td>\n",
       "      <td>1 banheiro     1 suíte</td>\n",
       "      <td></td>\n",
       "      <td>1 vaga</td>\n",
       "      <td>R$ 519.000</td>\n",
       "      <td>R$ 650</td>\n",
       "      <td>Piscina, Churrasqueira, Elevador, Condomínio f...</td>\n",
       "      <td>2547621336</td>\n",
       "      <td>https://www.vivareal.com.br/imovel/apartamento...</td>\n",
       "      <td>2022-03-02 23:08:39.136947</td>\n",
       "    </tr>\n",
       "    <tr>\n",
       "      <th>106</th>\n",
       "      <td>Rua Ibirajá - Vila Guarani, São Paulo - SP</td>\n",
       "      <td>53</td>\n",
       "      <td>2</td>\n",
       "      <td>1 banheiro     1 suíte</td>\n",
       "      <td></td>\n",
       "      <td>1 vaga</td>\n",
       "      <td>R$ 519.000</td>\n",
       "      <td>R$ 650</td>\n",
       "      <td>Piscina, Churrasqueira, Elevador, Condomínio f...</td>\n",
       "      <td>2547621336</td>\n",
       "      <td>https://www.vivareal.com.br/imovel/apartamento...</td>\n",
       "      <td>2022-03-02 23:08:39.136947</td>\n",
       "    </tr>\n",
       "    <tr>\n",
       "      <th>145</th>\n",
       "      <td>Rua Gomes de Carvalho, 1146 - Vila Olímpia, Sã...</td>\n",
       "      <td>62</td>\n",
       "      <td>1</td>\n",
       "      <td>1 banheiro     1 suíte</td>\n",
       "      <td></td>\n",
       "      <td>1 vaga</td>\n",
       "      <td>R$ 1.200.000</td>\n",
       "      <td>R$ 950</td>\n",
       "      <td>Piscina, Condomínio fechado, Academia, Aceita ...</td>\n",
       "      <td>2499606686</td>\n",
       "      <td>https://www.vivareal.com.br/imovel/apartamento...</td>\n",
       "      <td>2022-03-02 23:08:39.136947</td>\n",
       "    </tr>\n",
       "    <tr>\n",
       "      <th>...</th>\n",
       "      <td>...</td>\n",
       "      <td>...</td>\n",
       "      <td>...</td>\n",
       "      <td>...</td>\n",
       "      <td>...</td>\n",
       "      <td>...</td>\n",
       "      <td>...</td>\n",
       "      <td>...</td>\n",
       "      <td>...</td>\n",
       "      <td>...</td>\n",
       "      <td>...</td>\n",
       "      <td>...</td>\n",
       "    </tr>\n",
       "    <tr>\n",
       "      <th>10483</th>\n",
       "      <td>Rua Nelson Gama de Oliveira, 850 - Morumbi, Sã...</td>\n",
       "      <td>66</td>\n",
       "      <td>2</td>\n",
       "      <td>1 banheiro     1 suíte</td>\n",
       "      <td></td>\n",
       "      <td>1 vaga</td>\n",
       "      <td>R$ 499.990</td>\n",
       "      <td>sem informacao</td>\n",
       "      <td>Piscina, Elevador, Varanda, Academia, Playgrou...</td>\n",
       "      <td>2549566677</td>\n",
       "      <td>https://www.vivareal.com.br/imovel/apartamento...</td>\n",
       "      <td>2022-03-02 23:08:39.136947</td>\n",
       "    </tr>\n",
       "    <tr>\n",
       "      <th>10500</th>\n",
       "      <td>Rua do Estilo Barroco, 633 - Brooklin, São Pau...</td>\n",
       "      <td>41</td>\n",
       "      <td>2</td>\n",
       "      <td>1 banheiro     1 suíte</td>\n",
       "      <td></td>\n",
       "      <td>Não informado Solicitar</td>\n",
       "      <td>R$ 395.000</td>\n",
       "      <td>R$ 430</td>\n",
       "      <td>Piscina, Churrasqueira, Elevador, Condomínio f...</td>\n",
       "      <td>2538535398</td>\n",
       "      <td>https://www.vivareal.com.br/imovel/apartamento...</td>\n",
       "      <td>2022-03-02 23:08:39.136947</td>\n",
       "    </tr>\n",
       "    <tr>\n",
       "      <th>10505</th>\n",
       "      <td>Alameda Jaú, 1607 - Jardins, São Paulo - SP</td>\n",
       "      <td>43</td>\n",
       "      <td>1</td>\n",
       "      <td>1 banheiro     1 suíte</td>\n",
       "      <td></td>\n",
       "      <td>1 vaga</td>\n",
       "      <td>R$ 300.000</td>\n",
       "      <td>R$ 1</td>\n",
       "      <td>Piscina, Mobiliado, Elevador, Academia, Ar-con...</td>\n",
       "      <td>2506964935</td>\n",
       "      <td>https://www.vivareal.com.br/imovel/apartamento...</td>\n",
       "      <td>2022-03-02 23:08:39.136947</td>\n",
       "    </tr>\n",
       "    <tr>\n",
       "      <th>10517</th>\n",
       "      <td>Rua Ibirajá - Vila Guarani, São Paulo - SP</td>\n",
       "      <td>53</td>\n",
       "      <td>2</td>\n",
       "      <td>1 banheiro     1 suíte</td>\n",
       "      <td></td>\n",
       "      <td>1 vaga</td>\n",
       "      <td>R$ 519.000</td>\n",
       "      <td>R$ 650</td>\n",
       "      <td>Piscina, Churrasqueira, Elevador, Condomínio f...</td>\n",
       "      <td>2547621336</td>\n",
       "      <td>https://www.vivareal.com.br/imovel/apartamento...</td>\n",
       "      <td>2022-03-02 23:08:39.136947</td>\n",
       "    </tr>\n",
       "    <tr>\n",
       "      <th>10557</th>\n",
       "      <td>Rua Ibirajá - Vila Guarani, São Paulo - SP</td>\n",
       "      <td>53</td>\n",
       "      <td>2</td>\n",
       "      <td>1 banheiro     1 suíte</td>\n",
       "      <td></td>\n",
       "      <td>1 vaga</td>\n",
       "      <td>R$ 519.000</td>\n",
       "      <td>R$ 650</td>\n",
       "      <td>Piscina, Churrasqueira, Elevador, Condomínio f...</td>\n",
       "      <td>2547621336</td>\n",
       "      <td>https://www.vivareal.com.br/imovel/apartamento...</td>\n",
       "      <td>2022-03-02 23:08:39.136947</td>\n",
       "    </tr>\n",
       "  </tbody>\n",
       "</table>\n",
       "<p>801 rows × 12 columns</p>\n",
       "</div>"
      ],
      "text/plain": [
       "                                                endereco  area  quartos  \\\n",
       "28     Rua Dona Antônia de Queirós - Consolação, São ...    38        1   \n",
       "67     Rua Dona Antônia de Queirós - Consolação, São ...    38        1   \n",
       "70            Rua Ibirajá - Vila Guarani, São Paulo - SP    53        2   \n",
       "106           Rua Ibirajá - Vila Guarani, São Paulo - SP    53        2   \n",
       "145    Rua Gomes de Carvalho, 1146 - Vila Olímpia, Sã...    62        1   \n",
       "...                                                  ...   ...      ...   \n",
       "10483  Rua Nelson Gama de Oliveira, 850 - Morumbi, Sã...    66        2   \n",
       "10500  Rua do Estilo Barroco, 633 - Brooklin, São Pau...    41        2   \n",
       "10505        Alameda Jaú, 1607 - Jardins, São Paulo - SP    43        1   \n",
       "10517         Rua Ibirajá - Vila Guarani, São Paulo - SP    53        2   \n",
       "10557         Rua Ibirajá - Vila Guarani, São Paulo - SP    53        2   \n",
       "\n",
       "                    banheiros suite             vaga_garagem valor_aluguel  \\\n",
       "28     1 banheiro     1 suíte                         1 vaga    R$ 549.000   \n",
       "67     1 banheiro     1 suíte                         1 vaga    R$ 549.000   \n",
       "70     1 banheiro     1 suíte                         1 vaga    R$ 519.000   \n",
       "106    1 banheiro     1 suíte                         1 vaga    R$ 519.000   \n",
       "145    1 banheiro     1 suíte                         1 vaga  R$ 1.200.000   \n",
       "...                       ...   ...                      ...           ...   \n",
       "10483  1 banheiro     1 suíte                         1 vaga    R$ 499.990   \n",
       "10500  1 banheiro     1 suíte        Não informado Solicitar    R$ 395.000   \n",
       "10505  1 banheiro     1 suíte                         1 vaga    R$ 300.000   \n",
       "10517  1 banheiro     1 suíte                         1 vaga    R$ 519.000   \n",
       "10557  1 banheiro     1 suíte                         1 vaga    R$ 519.000   \n",
       "\n",
       "           valor_cond                                    caracteristicas  \\\n",
       "28             R$ 600  Piscina, Churrasqueira, Elevador, Condomínio f...   \n",
       "67             R$ 600  Piscina, Churrasqueira, Elevador, Condomínio f...   \n",
       "70             R$ 650  Piscina, Churrasqueira, Elevador, Condomínio f...   \n",
       "106            R$ 650  Piscina, Churrasqueira, Elevador, Condomínio f...   \n",
       "145            R$ 950  Piscina, Condomínio fechado, Academia, Aceita ...   \n",
       "...               ...                                                ...   \n",
       "10483  sem informacao  Piscina, Elevador, Varanda, Academia, Playgrou...   \n",
       "10500          R$ 430  Piscina, Churrasqueira, Elevador, Condomínio f...   \n",
       "10505            R$ 1  Piscina, Mobiliado, Elevador, Academia, Ar-con...   \n",
       "10517          R$ 650  Piscina, Churrasqueira, Elevador, Condomínio f...   \n",
       "10557          R$ 650  Piscina, Churrasqueira, Elevador, Condomínio f...   \n",
       "\n",
       "       id_anuncio                                              fonte  \\\n",
       "28     2551430565  https://www.vivareal.com.br/imovel/apartamento...   \n",
       "67     2551430565  https://www.vivareal.com.br/imovel/apartamento...   \n",
       "70     2547621336  https://www.vivareal.com.br/imovel/apartamento...   \n",
       "106    2547621336  https://www.vivareal.com.br/imovel/apartamento...   \n",
       "145    2499606686  https://www.vivareal.com.br/imovel/apartamento...   \n",
       "...           ...                                                ...   \n",
       "10483  2549566677  https://www.vivareal.com.br/imovel/apartamento...   \n",
       "10500  2538535398  https://www.vivareal.com.br/imovel/apartamento...   \n",
       "10505  2506964935  https://www.vivareal.com.br/imovel/apartamento...   \n",
       "10517  2547621336  https://www.vivareal.com.br/imovel/apartamento...   \n",
       "10557  2547621336  https://www.vivareal.com.br/imovel/apartamento...   \n",
       "\n",
       "                   scrap_datetime  \n",
       "28     2022-03-02 23:08:39.136947  \n",
       "67     2022-03-02 23:08:39.136947  \n",
       "70     2022-03-02 23:08:39.136947  \n",
       "106    2022-03-02 23:08:39.136947  \n",
       "145    2022-03-02 23:08:39.136947  \n",
       "...                           ...  \n",
       "10483  2022-03-02 23:08:39.136947  \n",
       "10500  2022-03-02 23:08:39.136947  \n",
       "10505  2022-03-02 23:08:39.136947  \n",
       "10517  2022-03-02 23:08:39.136947  \n",
       "10557  2022-03-02 23:08:39.136947  \n",
       "\n",
       "[801 rows x 12 columns]"
      ]
     },
     "execution_count": 111,
     "metadata": {},
     "output_type": "execute_result"
    }
   ],
   "source": [
    "x = df02[df02['suite'] == \" \"]\n",
    "x['banheiros'].str.contains('suíte')['banheiros'].str"
   ]
  },
  {
   "cell_type": "code",
   "execution_count": 68,
   "metadata": {},
   "outputs": [
    {
     "data": {
      "text/plain": [
       "endereco           object\n",
       "area                int64\n",
       "quartos             int64\n",
       "banheiros          object\n",
       "vaga_garagem       object\n",
       "valor_aluguel      object\n",
       "valor_cond         object\n",
       "caracteristicas    object\n",
       "id_anuncio          int64\n",
       "fonte              object\n",
       "scrap_datetime     object\n",
       "dtype: object"
      ]
     },
     "execution_count": 68,
     "metadata": {},
     "output_type": "execute_result"
    }
   ],
   "source": [
    "df02.dtypesa"
   ]
  },
  {
   "cell_type": "markdown",
   "metadata": {},
   "source": [
    "# 3.0 - DATA DESCRIPTION"
   ]
  },
  {
   "cell_type": "markdown",
   "metadata": {},
   "source": [
    "## 3.1 - Rename Columns"
   ]
  },
  {
   "cell_type": "markdown",
   "metadata": {},
   "source": [
    "## 3.2 - Data Dimentions"
   ]
  },
  {
   "cell_type": "markdown",
   "metadata": {},
   "source": [
    "## 3.3 - Data Types"
   ]
  },
  {
   "cell_type": "markdown",
   "metadata": {},
   "source": [
    "## 3.4 - Check NAs"
   ]
  },
  {
   "cell_type": "markdown",
   "metadata": {},
   "source": [
    "## 3.5 - Descriptive Statistics"
   ]
  },
  {
   "cell_type": "markdown",
   "metadata": {},
   "source": [
    "### 3.5.1 - Numerical Variables"
   ]
  },
  {
   "cell_type": "markdown",
   "metadata": {},
   "source": [
    "### 3.5.2 - Categorical Variables"
   ]
  },
  {
   "cell_type": "markdown",
   "metadata": {},
   "source": [
    "# 4.0 - CHECK OUTLIERS"
   ]
  },
  {
   "cell_type": "markdown",
   "metadata": {},
   "source": [
    "# 5.0 - Hypothesis"
   ]
  },
  {
   "cell_type": "markdown",
   "metadata": {},
   "source": [
    "## 5.1 - Mind Map Hypothesis"
   ]
  },
  {
   "cell_type": "markdown",
   "metadata": {},
   "source": [
    "## 5.2 - Hypothesis Creation"
   ]
  },
  {
   "cell_type": "markdown",
   "metadata": {},
   "source": [
    "# 6.0 - FEATURE ENGINEERING"
   ]
  },
  {
   "cell_type": "markdown",
   "metadata": {},
   "source": [
    "# 7.0 - EDA"
   ]
  },
  {
   "cell_type": "markdown",
   "metadata": {},
   "source": [
    "## 7.1 - Univariate Analysis"
   ]
  },
  {
   "cell_type": "markdown",
   "metadata": {},
   "source": [
    "### 7.1.1 - Target Variable"
   ]
  },
  {
   "cell_type": "markdown",
   "metadata": {},
   "source": [
    "### 7.1.2 - Numerical Variables"
   ]
  },
  {
   "cell_type": "markdown",
   "metadata": {},
   "source": [
    "### 7.1.3 - Categorial Variables"
   ]
  },
  {
   "cell_type": "markdown",
   "metadata": {},
   "source": [
    "## 7.2 - Bivariate Analysis"
   ]
  },
  {
   "cell_type": "code",
   "execution_count": null,
   "metadata": {},
   "outputs": [],
   "source": [
    "# Validate Hypothesis"
   ]
  },
  {
   "cell_type": "markdown",
   "metadata": {},
   "source": [
    "## 7.3 - Multivariate Analysis"
   ]
  },
  {
   "cell_type": "markdown",
   "metadata": {},
   "source": [
    "### 7.3.1 - Numerical Variables"
   ]
  },
  {
   "cell_type": "markdown",
   "metadata": {},
   "source": [
    "### 7.3.2 - Categorical Variables"
   ]
  },
  {
   "cell_type": "markdown",
   "metadata": {},
   "source": [
    "# 8.0 - DATA PREPARATION"
   ]
  },
  {
   "cell_type": "markdown",
   "metadata": {},
   "source": [
    "## 8.1 - Data Filtering"
   ]
  },
  {
   "cell_type": "markdown",
   "metadata": {},
   "source": [
    "### 8.1.1 - Remove Outliers"
   ]
  },
  {
   "cell_type": "markdown",
   "metadata": {},
   "source": [
    "### 8.1.2 - Drop Unnecessary Rows and Columns"
   ]
  },
  {
   "cell_type": "markdown",
   "metadata": {},
   "source": [
    "## 8.2 - Train and Test Split"
   ]
  },
  {
   "cell_type": "markdown",
   "metadata": {},
   "source": [
    "## 8.3 - Rescale/Encode Variables"
   ]
  },
  {
   "cell_type": "markdown",
   "metadata": {},
   "source": [
    "### 8.3.1 - Train Dataset"
   ]
  },
  {
   "cell_type": "markdown",
   "metadata": {},
   "source": [
    "### 8.3.2 - Test Dataset"
   ]
  },
  {
   "cell_type": "markdown",
   "metadata": {},
   "source": [
    "# 9.0 - FEATURE SELECTION"
   ]
  },
  {
   "cell_type": "markdown",
   "metadata": {},
   "source": [
    "# 10.0 - MACHINE LEARNING MODELLING"
   ]
  },
  {
   "cell_type": "markdown",
   "metadata": {},
   "source": [
    "## 10.1 - Baseline Model"
   ]
  },
  {
   "cell_type": "code",
   "execution_count": null,
   "metadata": {},
   "outputs": [],
   "source": [
    "# Usar a média do valor/m² por região/bairro como Baseline"
   ]
  },
  {
   "cell_type": "markdown",
   "metadata": {},
   "source": [
    "## 10.2 - Modelos (Colocar o nome dos modelos)"
   ]
  },
  {
   "cell_type": "markdown",
   "metadata": {},
   "source": [
    "## 10.3 - Models Performance - Comparison"
   ]
  },
  {
   "cell_type": "markdown",
   "metadata": {},
   "source": [
    "# 11.0 - CROSS-VALIDATION SCORING"
   ]
  },
  {
   "cell_type": "markdown",
   "metadata": {},
   "source": [
    "# 12.0 - HYPERPARAMETER FINE TUNNING"
   ]
  },
  {
   "cell_type": "markdown",
   "metadata": {},
   "source": [
    "## 12.1 - Final Model with Best Parameters"
   ]
  },
  {
   "cell_type": "markdown",
   "metadata": {},
   "source": [
    "# 13.0 - TRANSLATION AND INTERPRETATION OF THE ERROR"
   ]
  },
  {
   "cell_type": "markdown",
   "metadata": {},
   "source": [
    "## 13.1 - Business Performance"
   ]
  },
  {
   "cell_type": "markdown",
   "metadata": {},
   "source": [
    "## 13.2 - Machine Learning Performance on Test Dataset"
   ]
  },
  {
   "cell_type": "markdown",
   "metadata": {},
   "source": [
    "# 14.0 - DEPLOY MODEL TO PRODUCTION"
   ]
  },
  {
   "cell_type": "markdown",
   "metadata": {},
   "source": [
    "## 14.1 - Vivareal Class"
   ]
  },
  {
   "cell_type": "markdown",
   "metadata": {},
   "source": [
    "## 14.2 - API Handler"
   ]
  },
  {
   "cell_type": "markdown",
   "metadata": {},
   "source": [
    "## 14.3 - API Tester"
   ]
  },
  {
   "cell_type": "code",
   "execution_count": null,
   "metadata": {},
   "outputs": [],
   "source": []
  },
  {
   "cell_type": "code",
   "execution_count": null,
   "metadata": {},
   "outputs": [],
   "source": []
  },
  {
   "cell_type": "code",
   "execution_count": null,
   "metadata": {},
   "outputs": [],
   "source": []
  }
 ],
 "metadata": {
  "interpreter": {
   "hash": "7dfb94567afdf5204558cbbe1e5b2ce9fb6d8cafcf99794fc115a2ba83b0980a"
  },
  "kernelspec": {
   "display_name": "Python 3.8.12 ('WebScrap_Vivareal')",
   "language": "python",
   "name": "python3"
  },
  "language_info": {
   "codemirror_mode": {
    "name": "ipython",
    "version": 3
   },
   "file_extension": ".py",
   "mimetype": "text/x-python",
   "name": "python",
   "nbconvert_exporter": "python",
   "pygments_lexer": "ipython3",
   "version": "3.8.12"
  },
  "orig_nbformat": 4
 },
 "nbformat": 4,
 "nbformat_minor": 2
}
