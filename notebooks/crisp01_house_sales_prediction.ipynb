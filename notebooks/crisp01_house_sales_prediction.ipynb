{
 "cells": [
  {
   "cell_type": "markdown",
   "metadata": {},
   "source": [
    "# BUSINESS CONTEXT"
   ]
  },
  {
   "cell_type": "markdown",
   "metadata": {},
   "source": [
    "**Company Name:** DHAUZ Real State\n",
    "\n",
    "**Product/Service:** The company offers a service that estimates apartments price through their features and characteristics, serving as a guide to customers wanting to sell their apartments.\n",
    "\n",
    "**Business Model:**\n",
    "\n",
    "- The service price is based on two components:\n",
    "\n",
    "    - 1 - A minimum price per estimate, which is R$ 200,00\n",
    "    - 2 - Based on the error of the estimate, which is based on the MAPE. If the error is less than 0.05, it is added R$ 400,00. For every 1% more error, it is subtracted R$ 20,00. If the error is greater than 20%, than the customer only pays the minimun price\n",
    "\n",
    "**Current Situation:**\n",
    "\n",
    "- The estimate is done by real state agent\n",
    "- The current MAPE is around 18%, varying from 30% and 8%\n",
    "\n",
    "**Problem:**\n",
    "\n",
    "- The company started this business model to validade their service, and now is trying to improve their profit, delivering a more accurate estimate.\n",
    "\n",
    "**Proposed Solution:**\n",
    "\n",
    "- Create a Linear Model to estimate apartment price, to achieve a more accurate estimate and helping real state agents do their job.\n",
    "\n",
    "**Main Questions to be answered:**\n",
    "\n",
    "- How much is the average error?\n",
    "- How much more profit DHAUZ Real State will make with the proposed solution?"
   ]
  },
  {
   "cell_type": "markdown",
   "metadata": {},
   "source": [
    "# IMPORTS"
   ]
  },
  {
   "cell_type": "code",
   "execution_count": 1,
   "metadata": {},
   "outputs": [],
   "source": [
    "import pandas as pd\n",
    "import numpy as np\n",
    "from datetime import datetime"
   ]
  },
  {
   "cell_type": "markdown",
   "metadata": {},
   "source": [
    "# NOTEBOOK CONFIGS"
   ]
  },
  {
   "cell_type": "code",
   "execution_count": 2,
   "metadata": {},
   "outputs": [],
   "source": [
    "pd.set_option('display.max_columns', None)"
   ]
  },
  {
   "cell_type": "markdown",
   "metadata": {},
   "source": [
    "# HELPER FUNCTIONS"
   ]
  },
  {
   "cell_type": "code",
   "execution_count": null,
   "metadata": {},
   "outputs": [],
   "source": []
  },
  {
   "cell_type": "markdown",
   "metadata": {},
   "source": [
    "# 1.0 - LOADING DATA"
   ]
  },
  {
   "cell_type": "code",
   "execution_count": 3,
   "metadata": {},
   "outputs": [
    {
     "data": {
      "text/html": [
       "<div>\n",
       "<style scoped>\n",
       "    .dataframe tbody tr th:only-of-type {\n",
       "        vertical-align: middle;\n",
       "    }\n",
       "\n",
       "    .dataframe tbody tr th {\n",
       "        vertical-align: top;\n",
       "    }\n",
       "\n",
       "    .dataframe thead th {\n",
       "        text-align: right;\n",
       "    }\n",
       "</style>\n",
       "<table border=\"1\" class=\"dataframe\">\n",
       "  <thead>\n",
       "    <tr style=\"text-align: right;\">\n",
       "      <th></th>\n",
       "      <th>endereco</th>\n",
       "      <th>area</th>\n",
       "      <th>quartos</th>\n",
       "      <th>banheiros</th>\n",
       "      <th>vaga_garagem</th>\n",
       "      <th>valor_aluguel</th>\n",
       "      <th>valor_cond</th>\n",
       "      <th>caracteristicas</th>\n",
       "      <th>id_anuncio</th>\n",
       "      <th>fonte</th>\n",
       "      <th>scrap_datetime</th>\n",
       "    </tr>\n",
       "  </thead>\n",
       "  <tbody>\n",
       "    <tr>\n",
       "      <th>0</th>\n",
       "      <td>Rua Francisco Pedro do Amaral, 251 - Jaguaré, ...</td>\n",
       "      <td>68m²</td>\n",
       "      <td>3 quartos</td>\n",
       "      <td>2 banheiros     1 suíte</td>\n",
       "      <td>2 vagas</td>\n",
       "      <td>R$ 500.000</td>\n",
       "      <td>R$ 575</td>\n",
       "      <td>Piscina, Churrasqueira, Elevador, Academia, Ac...</td>\n",
       "      <td>2548091356</td>\n",
       "      <td>https://www.vivareal.com.br/imovel/apartamento...</td>\n",
       "      <td>2022-03-02 23:08:39.136947</td>\n",
       "    </tr>\n",
       "    <tr>\n",
       "      <th>1</th>\n",
       "      <td>Rua Santo Antônio, 670 - Bela Vista, São Paulo...</td>\n",
       "      <td>44m²</td>\n",
       "      <td>1 quarto</td>\n",
       "      <td>1 banheiro</td>\n",
       "      <td>Não informado Solicitar</td>\n",
       "      <td>R$ 289.000</td>\n",
       "      <td>R$ 319</td>\n",
       "      <td>Aceita animais, Elevador, Portão eletrônico</td>\n",
       "      <td>2552171953</td>\n",
       "      <td>https://www.vivareal.com.br/imovel/apartamento...</td>\n",
       "      <td>2022-03-02 23:08:39.136947</td>\n",
       "    </tr>\n",
       "    <tr>\n",
       "      <th>2</th>\n",
       "      <td>Rua Domingos Rodrigues, 509 - Lapa, São Paulo ...</td>\n",
       "      <td>54m²</td>\n",
       "      <td>2 quartos</td>\n",
       "      <td>2 banheiros     1 suíte</td>\n",
       "      <td>1 vaga</td>\n",
       "      <td>R$ 550.000</td>\n",
       "      <td>R$ 800</td>\n",
       "      <td>Piscina, Mobiliado, Churrasqueira, Elevador, A...</td>\n",
       "      <td>2544567013</td>\n",
       "      <td>https://www.vivareal.com.br/imovel/apartamento...</td>\n",
       "      <td>2022-03-02 23:08:39.136947</td>\n",
       "    </tr>\n",
       "    <tr>\n",
       "      <th>3</th>\n",
       "      <td>Rua Humberto I, 193 - Vila Mariana, São Paulo ...</td>\n",
       "      <td>172m²</td>\n",
       "      <td>4 quartos</td>\n",
       "      <td>5 banheiros     3 suítes</td>\n",
       "      <td>4 vagas</td>\n",
       "      <td>R$ 4.810.000</td>\n",
       "      <td>R$ 2.100</td>\n",
       "      <td>Piscina, Churrasqueira, Academia, Aceita anima...</td>\n",
       "      <td>2543253547</td>\n",
       "      <td>https://www.vivareal.com.br/imovel/apartamento...</td>\n",
       "      <td>2022-03-02 23:08:39.136947</td>\n",
       "    </tr>\n",
       "    <tr>\n",
       "      <th>4</th>\n",
       "      <td>Rua Quariteré, 267 - Parque da Mooca, São Paul...</td>\n",
       "      <td>78m²</td>\n",
       "      <td>2 quartos</td>\n",
       "      <td>2 banheiros     1 suíte</td>\n",
       "      <td>1 vaga</td>\n",
       "      <td>R$ 680.000</td>\n",
       "      <td>R$ 1.000</td>\n",
       "      <td>Piscina, Churrasqueira, Elevador, Condomínio f...</td>\n",
       "      <td>2550615565</td>\n",
       "      <td>https://www.vivareal.com.br/imovel/apartamento...</td>\n",
       "      <td>2022-03-02 23:08:39.136947</td>\n",
       "    </tr>\n",
       "  </tbody>\n",
       "</table>\n",
       "</div>"
      ],
      "text/plain": [
       "                                            endereco   area    quartos  \\\n",
       "0  Rua Francisco Pedro do Amaral, 251 - Jaguaré, ...   68m²  3 quartos   \n",
       "1  Rua Santo Antônio, 670 - Bela Vista, São Paulo...   44m²   1 quarto   \n",
       "2  Rua Domingos Rodrigues, 509 - Lapa, São Paulo ...   54m²  2 quartos   \n",
       "3  Rua Humberto I, 193 - Vila Mariana, São Paulo ...  172m²  4 quartos   \n",
       "4  Rua Quariteré, 267 - Parque da Mooca, São Paul...   78m²  2 quartos   \n",
       "\n",
       "                  banheiros             vaga_garagem valor_aluguel valor_cond  \\\n",
       "0   2 banheiros     1 suíte                  2 vagas    R$ 500.000     R$ 575   \n",
       "1                1 banheiro  Não informado Solicitar    R$ 289.000     R$ 319   \n",
       "2   2 banheiros     1 suíte                   1 vaga    R$ 550.000     R$ 800   \n",
       "3  5 banheiros     3 suítes                  4 vagas  R$ 4.810.000   R$ 2.100   \n",
       "4   2 banheiros     1 suíte                   1 vaga    R$ 680.000   R$ 1.000   \n",
       "\n",
       "                                     caracteristicas  id_anuncio  \\\n",
       "0  Piscina, Churrasqueira, Elevador, Academia, Ac...  2548091356   \n",
       "1        Aceita animais, Elevador, Portão eletrônico  2552171953   \n",
       "2  Piscina, Mobiliado, Churrasqueira, Elevador, A...  2544567013   \n",
       "3  Piscina, Churrasqueira, Academia, Aceita anima...  2543253547   \n",
       "4  Piscina, Churrasqueira, Elevador, Condomínio f...  2550615565   \n",
       "\n",
       "                                               fonte  \\\n",
       "0  https://www.vivareal.com.br/imovel/apartamento...   \n",
       "1  https://www.vivareal.com.br/imovel/apartamento...   \n",
       "2  https://www.vivareal.com.br/imovel/apartamento...   \n",
       "3  https://www.vivareal.com.br/imovel/apartamento...   \n",
       "4  https://www.vivareal.com.br/imovel/apartamento...   \n",
       "\n",
       "               scrap_datetime  \n",
       "0  2022-03-02 23:08:39.136947  \n",
       "1  2022-03-02 23:08:39.136947  \n",
       "2  2022-03-02 23:08:39.136947  \n",
       "3  2022-03-02 23:08:39.136947  \n",
       "4  2022-03-02 23:08:39.136947  "
      ]
     },
     "execution_count": 3,
     "metadata": {},
     "output_type": "execute_result"
    }
   ],
   "source": [
    "df_raw = pd.read_csv(r'C:\\Users\\AlvaroMatsuda\\OneDrive - DHAUZ\\Área de Trabalho\\DHAUZ_Files\\Vivareal_Webscraping\\scraped_data\\df_webscraped.csv').drop(columns='Unnamed: 0')\n",
    "df_raw.head()"
   ]
  },
  {
   "cell_type": "markdown",
   "metadata": {},
   "source": [
    "# 2.0 - DATA CLEANING"
   ]
  },
  {
   "cell_type": "code",
   "execution_count": 30,
   "metadata": {},
   "outputs": [],
   "source": [
    "df02 = df_raw.copy()"
   ]
  },
  {
   "cell_type": "code",
   "execution_count": 184,
   "metadata": {},
   "outputs": [],
   "source": [
    "df02 = df_raw.copy()\n",
    "\n",
    "# Drop Duplicates -> Droped 2369 rows\n",
    "df02.drop_duplicates(inplace=True)\n",
    "\n",
    "# Select only address with São Paulo - SP -> droped 1 row\n",
    "df02 = df02[df02['endereco'].str.contains('São Paulo - SP')]\n",
    "\n",
    "# =============== 1.0 - area ===============\n",
    "# Remove \"m²\"\n",
    "df02['area'] = df02['area'].str.strip('m²')\n",
    "\n",
    "# Drop \"sem metrage\"\n",
    "df02.drop(df02[df02['area'] == 'sem metrage'].index, inplace=True)\n",
    "\n",
    "# Convert to int\n",
    "df02['area'] = df02['area'].astype('int64')\n",
    "\n",
    "# =============== 2.0 - quartos ===============\n",
    "# remove \"quartos\"\n",
    "df02['quartos'] = df02['quartos'].str.strip('quartos')\n",
    "\n",
    "# Convert to int\n",
    "df02['quartos'] = df02['quartos'].astype('int64')\n",
    "\n",
    "# =============== 3.0 - suite ===============\n",
    "# create suite column\n",
    "df02.insert(4, 'suite', df02[df02['banheiros'].str.contains('suíte')]['banheiros'].str.replace(' ', '').str[9:12].str.strip('suo'))\n",
    "\n",
    "# fill NA - suite\n",
    "df02['suite'].fillna(0, inplace=True)\n",
    "\n",
    "# Convert to int\n",
    "df02['suite'] = df02['suite'].astype('int64')\n",
    "\n",
    "# =============== 4.0 - banheiros ===============\n",
    "# extract number of bathrooms\n",
    "df02['banheiros'] = df02['banheiros'].str[0]\n",
    "\n",
    "# set \"Não informado\" = 1\n",
    "df02.loc[df02['banheiros'] == 'N','banheiros'] = '1' \n",
    "\n",
    "# Convert to int\n",
    "df02['banheiros'] = df02['banheiros'].astype('int64')\n",
    "\n",
    "# =============== 5.0 - vaga_garagem ===============\n",
    "# extract number of parking lots\n",
    "df02['vaga_garagem'] = df02['vaga_garagem'].str[0]\n",
    "\n",
    "# set \"Não informado\" = 0\n",
    "df02.loc[df02['vaga_garagem'] == 'N','vaga_garagem'] = '0'\n",
    "\n",
    "# Convert to int\n",
    "df02['vaga_garagem'] = df02['vaga_garagem'].astype('int64')\n",
    "\n",
    "# =============== 6.0 - valor_aluguel ===============\n",
    "# remove \"R$\" and \".\"\n",
    "df02['valor_aluguel'] = df02['valor_aluguel'].apply(lambda x: x.replace('R$', '').replace('.', ''))\n",
    "\n",
    "# drop rows that have rent price instead of sell price\n",
    "df02.drop(df02[df02['valor_aluguel'].str.contains('/')].index, inplace=True)\n",
    "\n",
    "# Convert to int\n",
    "df02['valor_aluguel'] = df02['valor_aluguel'].astype('int64')\n",
    "\n",
    "# =============== 7.0 - valor_cond ===============\n",
    "# remove \"R$\" and \".\"\n",
    "df02['valor_cond'] = df02['valor_cond'].apply(lambda x: x.replace('R$', '').replace('.', ''))\n",
    "\n",
    "# set \"sem informacao\" = 0\n",
    "df02.loc[df02['valor_cond'] == 'sem informacao','valor_cond'] = '0'\n",
    "\n",
    "# Convert to int\n",
    "df02['valor_cond'] = df02['valor_cond'].astype('int64')\n",
    "\n",
    "# =============== 8.0 - caracteristicas ===============\n",
    "\n"
   ]
  },
  {
   "cell_type": "markdown",
   "metadata": {},
   "source": [
    "# 3.0 - DATA DESCRIPTION"
   ]
  },
  {
   "cell_type": "markdown",
   "metadata": {},
   "source": [
    "## 3.1 - Rename Columns"
   ]
  },
  {
   "cell_type": "markdown",
   "metadata": {},
   "source": [
    "## 3.2 - Data Dimentions"
   ]
  },
  {
   "cell_type": "markdown",
   "metadata": {},
   "source": [
    "## 3.3 - Data Types"
   ]
  },
  {
   "cell_type": "markdown",
   "metadata": {},
   "source": [
    "## 3.4 - Check NAs"
   ]
  },
  {
   "cell_type": "markdown",
   "metadata": {},
   "source": [
    "## 3.5 - Descriptive Statistics"
   ]
  },
  {
   "cell_type": "markdown",
   "metadata": {},
   "source": [
    "### 3.5.1 - Numerical Variables"
   ]
  },
  {
   "cell_type": "markdown",
   "metadata": {},
   "source": [
    "### 3.5.2 - Categorical Variables"
   ]
  },
  {
   "cell_type": "markdown",
   "metadata": {},
   "source": [
    "# 4.0 - CHECK OUTLIERS"
   ]
  },
  {
   "cell_type": "markdown",
   "metadata": {},
   "source": [
    "# 5.0 - Hypothesis"
   ]
  },
  {
   "cell_type": "markdown",
   "metadata": {},
   "source": [
    "## 5.1 - Mind Map Hypothesis"
   ]
  },
  {
   "cell_type": "markdown",
   "metadata": {},
   "source": [
    "## 5.2 - Hypothesis Creation"
   ]
  },
  {
   "cell_type": "markdown",
   "metadata": {},
   "source": [
    "# 6.0 - FEATURE ENGINEERING"
   ]
  },
  {
   "cell_type": "markdown",
   "metadata": {},
   "source": [
    "# 7.0 - EDA"
   ]
  },
  {
   "cell_type": "markdown",
   "metadata": {},
   "source": [
    "## 7.1 - Univariate Analysis"
   ]
  },
  {
   "cell_type": "markdown",
   "metadata": {},
   "source": [
    "### 7.1.1 - Target Variable"
   ]
  },
  {
   "cell_type": "markdown",
   "metadata": {},
   "source": [
    "### 7.1.2 - Numerical Variables"
   ]
  },
  {
   "cell_type": "markdown",
   "metadata": {},
   "source": [
    "### 7.1.3 - Categorial Variables"
   ]
  },
  {
   "cell_type": "markdown",
   "metadata": {},
   "source": [
    "## 7.2 - Bivariate Analysis"
   ]
  },
  {
   "cell_type": "code",
   "execution_count": null,
   "metadata": {},
   "outputs": [],
   "source": [
    "# Validate Hypothesis"
   ]
  },
  {
   "cell_type": "markdown",
   "metadata": {},
   "source": [
    "## 7.3 - Multivariate Analysis"
   ]
  },
  {
   "cell_type": "markdown",
   "metadata": {},
   "source": [
    "### 7.3.1 - Numerical Variables"
   ]
  },
  {
   "cell_type": "markdown",
   "metadata": {},
   "source": [
    "### 7.3.2 - Categorical Variables"
   ]
  },
  {
   "cell_type": "markdown",
   "metadata": {},
   "source": [
    "# 8.0 - DATA PREPARATION"
   ]
  },
  {
   "cell_type": "markdown",
   "metadata": {},
   "source": [
    "## 8.1 - Data Filtering"
   ]
  },
  {
   "cell_type": "markdown",
   "metadata": {},
   "source": [
    "### 8.1.1 - Remove Outliers"
   ]
  },
  {
   "cell_type": "markdown",
   "metadata": {},
   "source": [
    "### 8.1.2 - Drop Unnecessary Rows and Columns"
   ]
  },
  {
   "cell_type": "markdown",
   "metadata": {},
   "source": [
    "## 8.2 - Train and Test Split"
   ]
  },
  {
   "cell_type": "markdown",
   "metadata": {},
   "source": [
    "## 8.3 - Rescale/Encode Variables"
   ]
  },
  {
   "cell_type": "markdown",
   "metadata": {},
   "source": [
    "### 8.3.1 - Train Dataset"
   ]
  },
  {
   "cell_type": "markdown",
   "metadata": {},
   "source": [
    "### 8.3.2 - Test Dataset"
   ]
  },
  {
   "cell_type": "markdown",
   "metadata": {},
   "source": [
    "# 9.0 - FEATURE SELECTION"
   ]
  },
  {
   "cell_type": "markdown",
   "metadata": {},
   "source": [
    "# 10.0 - MACHINE LEARNING MODELLING"
   ]
  },
  {
   "cell_type": "markdown",
   "metadata": {},
   "source": [
    "## 10.1 - Baseline Model"
   ]
  },
  {
   "cell_type": "code",
   "execution_count": null,
   "metadata": {},
   "outputs": [],
   "source": [
    "# Usar a média do valor/m² por região/bairro como Baseline"
   ]
  },
  {
   "cell_type": "markdown",
   "metadata": {},
   "source": [
    "## 10.2 - Modelos (Colocar o nome dos modelos)"
   ]
  },
  {
   "cell_type": "markdown",
   "metadata": {},
   "source": [
    "## 10.3 - Models Performance - Comparison"
   ]
  },
  {
   "cell_type": "markdown",
   "metadata": {},
   "source": [
    "# 11.0 - CROSS-VALIDATION SCORING"
   ]
  },
  {
   "cell_type": "markdown",
   "metadata": {},
   "source": [
    "# 12.0 - HYPERPARAMETER FINE TUNNING"
   ]
  },
  {
   "cell_type": "markdown",
   "metadata": {},
   "source": [
    "## 12.1 - Final Model with Best Parameters"
   ]
  },
  {
   "cell_type": "markdown",
   "metadata": {},
   "source": [
    "# 13.0 - TRANSLATION AND INTERPRETATION OF THE ERROR"
   ]
  },
  {
   "cell_type": "markdown",
   "metadata": {},
   "source": [
    "## 13.1 - Business Performance"
   ]
  },
  {
   "cell_type": "markdown",
   "metadata": {},
   "source": [
    "## 13.2 - Machine Learning Performance on Test Dataset"
   ]
  },
  {
   "cell_type": "markdown",
   "metadata": {},
   "source": [
    "# 14.0 - DEPLOY MODEL TO PRODUCTION"
   ]
  },
  {
   "cell_type": "markdown",
   "metadata": {},
   "source": [
    "## 14.1 - Vivareal Class"
   ]
  },
  {
   "cell_type": "markdown",
   "metadata": {},
   "source": [
    "## 14.2 - API Handler"
   ]
  },
  {
   "cell_type": "markdown",
   "metadata": {},
   "source": [
    "## 14.3 - API Tester"
   ]
  },
  {
   "cell_type": "code",
   "execution_count": null,
   "metadata": {},
   "outputs": [],
   "source": []
  },
  {
   "cell_type": "code",
   "execution_count": null,
   "metadata": {},
   "outputs": [],
   "source": []
  },
  {
   "cell_type": "code",
   "execution_count": null,
   "metadata": {},
   "outputs": [],
   "source": []
  }
 ],
 "metadata": {
  "interpreter": {
   "hash": "7dfb94567afdf5204558cbbe1e5b2ce9fb6d8cafcf99794fc115a2ba83b0980a"
  },
  "kernelspec": {
   "display_name": "Python 3.8.12 ('WebScrap_Vivareal')",
   "language": "python",
   "name": "python3"
  },
  "language_info": {
   "codemirror_mode": {
    "name": "ipython",
    "version": 3
   },
   "file_extension": ".py",
   "mimetype": "text/x-python",
   "name": "python",
   "nbconvert_exporter": "python",
   "pygments_lexer": "ipython3",
   "version": "3.8.12"
  },
  "orig_nbformat": 4
 },
 "nbformat": 4,
 "nbformat_minor": 2
}
